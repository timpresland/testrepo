{
 "cells": [
  {
   "cell_type": "code",
   "execution_count": 3,
   "id": "9b65ee7d-1224-4f44-a27c-35011a816dfc",
   "metadata": {},
   "outputs": [
    {
     "name": "stdout",
     "output_type": "stream",
     "text": [
      "1000\n"
     ]
    }
   ],
   "source": [
    "#Given two integer numbers, write a Python code to return their product only if the product is equal to or lower than 1000. Otherwise, return their sum.\n",
    "\n",
    "i1 = 50\n",
    "i2 = 20\n",
    "\n",
    "if (i1*i2)<=1000:\n",
    "    print(i1*i2)\n",
    "else:\n",
    "    print(i1+i2)"
   ]
  },
  {
   "cell_type": "code",
   "execution_count": 9,
   "id": "7ab87501-395c-41d4-b035-ab8882be9e44",
   "metadata": {},
   "outputs": [
    {
     "name": "stdout",
     "output_type": "stream",
     "text": [
      "i=0; prev=0; sum=0\n",
      "i=1; prev=0; sum=1\n",
      "i=2; prev=1; sum=3\n",
      "i=3; prev=2; sum=5\n",
      "i=4; prev=3; sum=7\n",
      "i=5; prev=4; sum=9\n",
      "i=6; prev=5; sum=11\n",
      "i=7; prev=6; sum=13\n",
      "i=8; prev=7; sum=15\n",
      "i=9; prev=8; sum=17\n"
     ]
    }
   ],
   "source": [
    "#Write a Python code to iterate the first 10 numbers, and in each iteration, print the sum of the current and previous number.\n",
    "\n",
    "nums = range(0,10,1)\n",
    "prev_num = 0\n",
    "\n",
    "for i in nums:    \n",
    "    print(\"i=\" + str(i) + \"; prev=\" + str(prev_num) + \"; sum=\" + str(prev_num+i))\n",
    "    prev_num = i"
   ]
  },
  {
   "cell_type": "code",
   "execution_count": null,
   "id": "8692b99e-a75a-4722-a460-943ec33c95a2",
   "metadata": {},
   "outputs": [],
   "source": [
    "#Write a Python code to accept a string from the user and display characters present at an even index number.\n",
    "#For example, str = \"PYnative\". so your code should display ‘P’, ‘n’, ‘t’, ‘v’.\n",
    "\n",
    "user_string = input()\n",
    "str_len = len(user_string)\n",
    "chars = list(range(0, str_len, 2))\n",
    "\n",
    "for i in chars:\n",
    "    print(user_string[i])"
   ]
  },
  {
   "cell_type": "code",
   "execution_count": 47,
   "id": "92d36f22-59df-4f16-be3d-d5803859af31",
   "metadata": {},
   "outputs": [
    {
     "name": "stdout",
     "output_type": "stream",
     "text": [
      "ve123\n"
     ]
    }
   ],
   "source": [
    "#Write a Python code to remove characters from a string from 0 to n and return a new string.\n",
    "#remove_chars(\"PYnative\", 4) so output must be tive. Here, you need to remove the first four characters from a string.\n",
    "#remove_chars(\"PYnative\", 2) so output must be native. Here, you need to remove the first two characters from a string.\n",
    "\n",
    "def remove_chars(input_str, chars_to_remove):\n",
    "    str_len = len(input_str)\n",
    "    if (chars_to_remove > str_len):\n",
    "        return False\n",
    "    else:\n",
    "        #print(input_str[chars_to_remove:])\n",
    "        print(input_str[chars_to_remove:])\n",
    "\n",
    "remove_chars(\"PYnative123\", 6)"
   ]
  },
  {
   "cell_type": "code",
   "execution_count": 56,
   "id": "9a74de1f-492e-4b4c-8f0a-5f5fa9ca9329",
   "metadata": {},
   "outputs": [
    {
     "data": {
      "text/plain": [
       "True"
      ]
     },
     "execution_count": 56,
     "metadata": {},
     "output_type": "execute_result"
    }
   ],
   "source": [
    "#Write a code to return True if the list’s first and last numbers are the same. If the numbers are different, return False.\n",
    "\n",
    "numbers = [10, 20, 30, 40, 10]\n",
    "#numbers = [75, 65, 35, 75, 30]\n",
    "\n",
    "def analyse_list(the_list):\n",
    "    list_len = len(the_list)\n",
    "    if (the_list[0]==the_list[list_len-1]):\n",
    "        return True\n",
    "    else:\n",
    "        return False\n",
    "\n",
    "analyse_list(numbers)"
   ]
  },
  {
   "cell_type": "code",
   "execution_count": 58,
   "id": "db6c8272-31bf-40c9-915f-6e935e874485",
   "metadata": {},
   "outputs": [
    {
     "name": "stdout",
     "output_type": "stream",
     "text": [
      "10\n",
      "20\n",
      "165\n",
      "55\n"
     ]
    }
   ],
   "source": [
    "#Write a Python code to display numbers from a list divisible by 5\n",
    "\n",
    "numbers = [10, 20, 165, 46, 55]\n",
    "\n",
    "for val in numbers:\n",
    "    if (val%5==0): print(val)"
   ]
  },
  {
   "cell_type": "code",
   "execution_count": 91,
   "id": "e443ffe4-f31b-46a5-98fb-cb966c8ad566",
   "metadata": {},
   "outputs": [
    {
     "name": "stdout",
     "output_type": "stream",
     "text": [
      "Emma is good Emma is Emma\n",
      "0\n",
      "mma is good Emma is Emma\n",
      "12\n",
      "mma is Emma\n",
      "7\n",
      "mma\n",
      "-1\n",
      "3\n"
     ]
    }
   ],
   "source": [
    "#Write a Python code to find how often the substring “Emma” appears in the given string.\n",
    "\n",
    "str_x = \"Emma is good Emma is Emma\"\n",
    "\n",
    "i=0\n",
    "count=0\n",
    "str_len=len(str_x)\n",
    "\n",
    "while i<str_len:\n",
    "    print(str_x[i:])\n",
    "    idx=str_x[i:].find(\"Emma\")\n",
    "    print(idx)\n",
    "\n",
    "    if idx<0:\n",
    "        break\n",
    "    else:\n",
    "        i+=(idx+1)\n",
    "        count+=1\n",
    "\n",
    "print(count)\n",
    "\n"
   ]
  },
  {
   "cell_type": "code",
   "execution_count": 103,
   "id": "c1e4e43b-2b40-4caf-a915-fc0db8f846da",
   "metadata": {},
   "outputs": [
    {
     "name": "stdout",
     "output_type": "stream",
     "text": [
      "1\n",
      "2-2\n",
      "3-3-3\n",
      "4-4-4-4\n",
      "5-5-5-5-5\n",
      "6-6-6-6-6-6\n",
      "7-7-7-7-7-7-7\n",
      "8-8-8-8-8-8-8-8\n",
      "9-9-9-9-9-9-9-9-9\n",
      "10-10-10-10-10-10-10-10-10-10\n"
     ]
    }
   ],
   "source": [
    "#Print the following pattern\n",
    "#1 \n",
    "#2 2 \n",
    "#3 3 3 \n",
    "#4 4 4 4 \n",
    "#5 5 5 5 5\n",
    "\n",
    "loops=10\n",
    "i=1\n",
    "\n",
    "while i<=loops:\n",
    "    j=0\n",
    "    str_out = \"\"\n",
    "    while j<i:\n",
    "        str_out = str_out+str(i)\n",
    "        j+=1\n",
    "        if (j<i): str_out = str_out+\"-\"\n",
    "    print(str_out)\n",
    "    i+=1\n",
    "    "
   ]
  },
  {
   "cell_type": "code",
   "execution_count": 62,
   "id": "7b637d14-5872-4aaf-a574-22ca3202e5ef",
   "metadata": {},
   "outputs": [
    {
     "name": "stdout",
     "output_type": "stream",
     "text": [
      "In=545; Out=545; THIS IS A PALINDROME!\n",
      "In=12654; Out=45621; NOT A PALINDROME!\n",
      "In=234432; Out=234432; THIS IS A PALINDROME!\n",
      "In=8769833; Out=3389678; NOT A PALINDROME!\n"
     ]
    }
   ],
   "source": [
    "#Write a Python code to check if the given number is palindrome. A palindrome number is a number that is the same after reverse. For example, 545 is the palindrome number.\n",
    "test_numbers = [545, 12654, 234432, 8769833]\n",
    "\n",
    "def reverse_string(in_str):\n",
    "    out_str = \"\"\n",
    "    \n",
    "    for i in range(len(in_str),0,-1):\n",
    "        out_str += in_str[i-1]\n",
    "        \n",
    "    return out_str\n",
    "\n",
    "for num in test_numbers:\n",
    "    out = reverse_string(str(num))\n",
    "    if (str(num) == out):\n",
    "        print(\"In=\" + str(num) + \"; Out=\" + out + \"; THIS IS A PALINDROME!\")\n",
    "    else:\n",
    "        print(\"In=\" + str(num) + \"; Out=\" + out + \"; NOT A PALINDROME!\")\n"
   ]
  },
  {
   "cell_type": "code",
   "execution_count": 82,
   "id": "2cd58d31-53f7-4453-be2d-c026190dd912",
   "metadata": {},
   "outputs": [
    {
     "name": "stdout",
     "output_type": "stream",
     "text": [
      "[25, 35, 40, 60, 90]\n"
     ]
    }
   ],
   "source": [
    "#Given two lists of numbers, write a Python code to create a new list such that the latest list should contain odd numbers from the first list and even numbers from the second list.\n",
    "\n",
    "list1 = [10, 20, 25, 30, 35]\n",
    "list2 = [40, 45, 60, 75, 90]\n",
    "\n",
    "# assumes lists are same len\n",
    "\n",
    "new_list = []\n",
    "\n",
    "for val in list1:\n",
    "    if (val%2 != 0): new_list.append(val)\n",
    "\n",
    "for val in list2:\n",
    "    if (val%2 == 0): new_list.append(val)\n",
    "\n",
    "print(new_list)"
   ]
  },
  {
   "cell_type": "code",
   "execution_count": 88,
   "id": "0bd45919-fe99-48ec-9626-1b9f90a73c76",
   "metadata": {},
   "outputs": [
    {
     "name": "stdout",
     "output_type": "stream",
     "text": [
      "6 3 5 7 \n"
     ]
    }
   ],
   "source": [
    "# Get each digit from a number in the reverse order. e.g. if the given integer number is 7536, the output shall be “6 3 5 7“, with a space separating the digits.\n",
    "\n",
    "def reverse_string(in_str):\n",
    "    out_str = \"\"\n",
    "    \n",
    "    for i in range(len(in_str),0,-1):\n",
    "        out_str += in_str[i-1]\n",
    "        \n",
    "    return out_str\n",
    "\n",
    "in_num = 7536\n",
    "in_str = str(in_num)\n",
    "new_str = reverse_string(in_str)\n",
    "\n",
    "out_str = \"\"\n",
    "for c in new_str:\n",
    "    out_str += str(c + \" \")\n",
    "\n",
    "out_str.strip()\n",
    "print(out_str)"
   ]
  },
  {
   "cell_type": "code",
   "execution_count": 95,
   "id": "c168795e-43a6-4084-b142-84c5c7bcb487",
   "metadata": {},
   "outputs": [
    {
     "name": "stdout",
     "output_type": "stream",
     "text": [
      "500\n"
     ]
    }
   ],
   "source": [
    "#Calculate income tax for the given income by adhering to the rules below\n",
    "\n",
    "#Taxable Income\tFirst $10,000 = 0; Next $10,000 = 10; remaining = 20\n",
    "#E.g. income is 45000, income tax payable = 10000*0% + 10000*10%  + 25000*20% = $6000.\n",
    "\n",
    "def calc_income_tax(gross_amount):\n",
    "    if(gross_amount>20000):\n",
    "        return int((0.1*10000) + (0.2*(gross_amount-20000)))\n",
    "    elif(gross_amount>10000 & gross_amount<=20000):\n",
    "        return int(0.1*(gross_amount-10000))\n",
    "    else:\n",
    "        return 0\n",
    "\n",
    "print(calc_income_tax(15000))     "
   ]
  },
  {
   "cell_type": "code",
   "execution_count": 107,
   "id": "94217e5a-f748-4411-9f27-706055eeaca3",
   "metadata": {},
   "outputs": [
    {
     "name": "stdout",
     "output_type": "stream",
     "text": [
      "1 2 3 4 5 6 7 8 9 10 \n",
      "2 4 6 8 10 12 14 16 18 20 \n",
      "3 6 9 12 15 18 21 24 27 30 \n",
      "4 8 12 16 20 24 28 32 36 40 \n",
      "5 10 15 20 25 30 35 40 45 50 \n",
      "6 12 18 24 30 36 42 48 54 60 \n",
      "7 14 21 28 35 42 49 56 63 70 \n",
      "8 16 24 32 40 48 56 64 72 80 \n",
      "9 18 27 36 45 54 63 72 81 90 \n",
      "10 20 30 40 50 60 70 80 90 100 \n"
     ]
    }
   ],
   "source": [
    "# Print multiplication table from 1 to 10\n",
    "\n",
    "for i in range(1,11,1):\n",
    "    list = []\n",
    "    out_str = \"\"\n",
    "    for j in range(1, 11, 1):\n",
    "        out_str += str(str(i*j)+\" \")\n",
    "        \n",
    "    out_str.strip()\n",
    "    print(out_str)"
   ]
  },
  {
   "cell_type": "code",
   "execution_count": 115,
   "id": "1f67bcb9-6fb0-49c2-b1d9-8fdff0a590b1",
   "metadata": {},
   "outputs": [
    {
     "name": "stdout",
     "output_type": "stream",
     "text": [
      "* * * * * * *\n",
      "* * * * * *\n",
      "* * * * *\n",
      "* * * *\n",
      "* * *\n",
      "* *\n",
      "*\n"
     ]
    }
   ],
   "source": [
    "# Print a downward half-pyramid pattern of stars\n",
    "#* * * * *  \n",
    "#* * * *  \n",
    "#* * *  \n",
    "#* *  \n",
    "#*\n",
    "\n",
    "def print_pyramid(max_length, character):\n",
    "   \n",
    "    for i in range(0,max_length,1):\n",
    "        out_str=\"\"\n",
    "        for j in range(max_length-i,0,-1):\n",
    "            out_str += \"* \"\n",
    "        print(out_str.strip())\n",
    "\n",
    "\n",
    "print_pyramid(7,\"*\")"
   ]
  },
  {
   "cell_type": "code",
   "execution_count": 118,
   "id": "1bd72840-d47a-4ed7-a057-6955ddcb7ae5",
   "metadata": {},
   "outputs": [
    {
     "data": {
      "text/plain": [
       "625"
      ]
     },
     "execution_count": 118,
     "metadata": {},
     "output_type": "execute_result"
    }
   ],
   "source": [
    "#Write a function called exponent(base, exp) that returns an int value of base raises to the power of exp.\n",
    "\n",
    "def exponent(base, exp):\n",
    "    return pow(base, exp)\n",
    "\n",
    "exponent(5,4)"
   ]
  }
 ],
 "metadata": {
  "kernelspec": {
   "display_name": "Python 3 (ipykernel)",
   "language": "python",
   "name": "python3"
  },
  "language_info": {
   "codemirror_mode": {
    "name": "ipython",
    "version": 3
   },
   "file_extension": ".py",
   "mimetype": "text/x-python",
   "name": "python",
   "nbconvert_exporter": "python",
   "pygments_lexer": "ipython3",
   "version": "3.13.2"
  }
 },
 "nbformat": 4,
 "nbformat_minor": 5
}
